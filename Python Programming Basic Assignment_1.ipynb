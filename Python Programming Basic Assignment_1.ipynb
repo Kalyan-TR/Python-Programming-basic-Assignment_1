{
 "cells": [
  {
   "cell_type": "code",
   "execution_count": 1,
   "id": "7fe88903",
   "metadata": {},
   "outputs": [
    {
     "name": "stdout",
     "output_type": "stream",
     "text": [
      "Hello Python\n"
     ]
    }
   ],
   "source": [
    "print(\"Hello Python\")"
   ]
  },
  {
   "cell_type": "code",
   "execution_count": 2,
   "id": "9b86bacb",
   "metadata": {},
   "outputs": [
    {
     "name": "stdout",
     "output_type": "stream",
     "text": [
      "enter the number 18\n",
      "enter the number 24\n",
      "12\n",
      "2.0\n"
     ]
    }
   ],
   "source": [
    "number_1=int(input(\"enter the number 1\"))\n",
    "number_2=int(input(\"enter the number 2\"))\n",
    "sum=number_1+number_2\n",
    "div=number_1/number_2\n",
    "print(sum)\n",
    "print(div)"
   ]
  },
  {
   "cell_type": "code",
   "execution_count": 3,
   "id": "994fd33f",
   "metadata": {},
   "outputs": [
    {
     "name": "stdout",
     "output_type": "stream",
     "text": [
      "side a of traingle4\n",
      "side b of traingle5\n",
      "side c of traingle7\n",
      "area of traingle: 48.00\n"
     ]
    }
   ],
   "source": [
    "a=float(input(\"side a of traingle\"))\n",
    "b=float(input(\"side b of traingle\"))\n",
    "c=float(input(\"side c of traingle\"))\n",
    "s=(a+b+c)/2\n",
    "Area = (s*(s-a)*(s-b)*(s-c))*0.5\n",
    "print(\"area of traingle: %.2f\" %Area)"
   ]
  },
  {
   "cell_type": "code",
   "execution_count": 6,
   "id": "6d94b61a",
   "metadata": {},
   "outputs": [
    {
     "name": "stdout",
     "output_type": "stream",
     "text": [
      "enter the width of right angle traingle7\n",
      "enter the length of right angle traingle8\n",
      "28.0\n"
     ]
    }
   ],
   "source": [
    "width = float(input(\"enter the width of right angle traingle\"))\n",
    "length = float(input(\"enter the length of right angle traingle\"))\n",
    "area = 0.5*width*length\n",
    "print(round(area,2))"
   ]
  },
  {
   "cell_type": "code",
   "execution_count": 8,
   "id": "6558e72a",
   "metadata": {},
   "outputs": [
    {
     "name": "stdout",
     "output_type": "stream",
     "text": [
      "value of a: 12\n",
      "value of b: 10\n"
     ]
    }
   ],
   "source": [
    "a=10\n",
    "b=12\n",
    "a,b = b,a \n",
    "print(\"value of a:\", a)\n",
    "print(\"value of b:\", b)"
   ]
  },
  {
   "cell_type": "code",
   "execution_count": 9,
   "id": "d0939322",
   "metadata": {},
   "outputs": [
    {
     "name": "stdout",
     "output_type": "stream",
     "text": [
      "7\n"
     ]
    }
   ],
   "source": [
    "import random\n",
    "\n",
    "print(random.randint(0,9))"
   ]
  },
  {
   "cell_type": "code",
   "execution_count": 10,
   "id": "be874ee9",
   "metadata": {},
   "outputs": [
    {
     "name": "stdout",
     "output_type": "stream",
     "text": [
      "[28, 1, 16, 18, 26]\n"
     ]
    }
   ],
   "source": [
    "import random\n",
    "randomlist = []\n",
    "for i in range(0,5):\n",
    "    n = random.randint(1,30)\n",
    "    randomlist.append(n)\n",
    "print(randomlist)"
   ]
  }
 ],
 "metadata": {
  "kernelspec": {
   "display_name": "Python 3",
   "language": "python",
   "name": "python3"
  },
  "language_info": {
   "codemirror_mode": {
    "name": "ipython",
    "version": 3
   },
   "file_extension": ".py",
   "mimetype": "text/x-python",
   "name": "python",
   "nbconvert_exporter": "python",
   "pygments_lexer": "ipython3",
   "version": "3.8.8"
  }
 },
 "nbformat": 4,
 "nbformat_minor": 5
}
